{
  "nbformat": 4,
  "nbformat_minor": 0,
  "metadata": {
    "colab": {
      "name": "Word2Vec_NLPBias.ipynb",
      "provenance": [],
      "include_colab_link": true
    },
    "kernelspec": {
      "name": "python3",
      "display_name": "Python 3"
    },
    "language_info": {
      "name": "python"
    }
  },
  "cells": [
    {
      "cell_type": "markdown",
      "metadata": {
        "id": "view-in-github",
        "colab_type": "text"
      },
      "source": [
        "<a href=\"https://colab.research.google.com/github/CMOONCS/NLP-Gender-Bias/blob/main/Word2Vec_NLPBias.ipynb\" target=\"_parent\"><img src=\"https://colab.research.google.com/assets/colab-badge.svg\" alt=\"Open In Colab\"/></a>"
      ]
    },
    {
      "cell_type": "markdown",
      "source": [
        "# NLP Bias-- a brief introduction using  pretrainined word2vec model\n",
        "<i> Note: To make and save the changes to the colab notebook go to 'File -> Save a copy in Drive' </i>"
      ],
      "metadata": {
        "id": "2cL57n2ywYvV"
      }
    },
    {
      "cell_type": "markdown",
      "source": [
        "##### <b> Import important libraries"
      ],
      "metadata": {
        "id": "fceyP39kv9cB"
      }
    },
    {
      "cell_type": "code",
      "execution_count": null,
      "metadata": {
        "id": "51WWBD_zs078"
      },
      "outputs": [],
      "source": [
        "import gensim\n",
        "from gensim.models import word2vec\n",
        "from gensim.models import KeyedVectors\n",
        "from sklearn.metrics.pairwise import cosine_similarity"
      ]
    },
    {
      "cell_type": "markdown",
      "source": [
        "## We can use Gensim API to download several different corpora and pretrained models"
      ],
      "metadata": {
        "id": "jknzJPTKvtiR"
      }
    },
    {
      "cell_type": "code",
      "source": [
        "import gensim.downloader as api"
      ],
      "metadata": {
        "id": "TUIXp4xGxq4z"
      },
      "execution_count": null,
      "outputs": []
    },
    {
      "cell_type": "code",
      "source": [
        "model = api.load(\"glove-wiki-gigaword-50\")\n"
      ],
      "metadata": {
        "id": "YO06GyrZx0j6"
      },
      "execution_count": null,
      "outputs": []
    },
    {
      "cell_type": "markdown",
      "source": [
        "<b>-->The most similar words"
      ],
      "metadata": {
        "id": "k49MH5gXyKz6"
      }
    },
    {
      "cell_type": "code",
      "source": [
        "model.most_similar(\"woman\")"
      ],
      "metadata": {
        "colab": {
          "base_uri": "https://localhost:8080/"
        },
        "id": "lk0uy1YhyDDh",
        "outputId": "4aa15b92-93ef-4091-9cb3-20b88c7ba7c6"
      },
      "execution_count": null,
      "outputs": [
        {
          "output_type": "execute_result",
          "data": {
            "text/plain": [
              "[('girl', 0.9065280556678772),\n",
              " ('man', 0.8860336542129517),\n",
              " ('mother', 0.8763703107833862),\n",
              " ('her', 0.86131352186203),\n",
              " ('boy', 0.8596119284629822),\n",
              " ('she', 0.8430695533752441),\n",
              " ('herself', 0.8224567770957947),\n",
              " ('child', 0.8108214735984802),\n",
              " ('wife', 0.8037394881248474),\n",
              " ('old', 0.7982394695281982)]"
            ]
          },
          "metadata": {},
          "execution_count": 9
        }
      ]
    },
    {
      "cell_type": "markdown",
      "source": [
        "<b>->Top-5 similar words"
      ],
      "metadata": {
        "id": "_U3oPMYgyQn_"
      }
    },
    {
      "cell_type": "code",
      "source": [
        "model.most_similar(\"doctor\", topn= 5)"
      ],
      "metadata": {
        "colab": {
          "base_uri": "https://localhost:8080/"
        },
        "id": "HULgQdmryQz9",
        "outputId": "420fb902-d90a-4d1e-ad31-671a0ca6b6a5"
      },
      "execution_count": null,
      "outputs": [
        {
          "output_type": "execute_result",
          "data": {
            "text/plain": [
              "[('nurse', 0.7977497577667236),\n",
              " ('physician', 0.7965210676193237),\n",
              " ('patient', 0.7611691951751709),\n",
              " ('child', 0.7558937668800354),\n",
              " ('teacher', 0.7538284659385681)]"
            ]
          },
          "metadata": {},
          "execution_count": 8
        }
      ]
    },
    {
      "cell_type": "markdown",
      "source": [
        "<b> -> Simliarity of two words"
      ],
      "metadata": {
        "id": "CauJrEkUyi2v"
      }
    },
    {
      "cell_type": "code",
      "source": [
        "model.similarity('dad','grandfather')"
      ],
      "metadata": {
        "colab": {
          "base_uri": "https://localhost:8080/"
        },
        "id": "EhORTiBMzKLZ",
        "outputId": "c801687d-1d4b-4fe0-aa8f-fd647808987e"
      },
      "execution_count": null,
      "outputs": [
        {
          "output_type": "execute_result",
          "data": {
            "text/plain": [
              "0.6845182"
            ]
          },
          "metadata": {},
          "execution_count": 12
        }
      ]
    },
    {
      "cell_type": "markdown",
      "source": [
        "## <b> Introducing gender bias present in the model using analogy"
      ],
      "metadata": {
        "id": "QoLMwZZOyzS4"
      }
    },
    {
      "cell_type": "markdown",
      "source": [
        "Define analogy function"
      ],
      "metadata": {
        "id": "4p_Wy63r1y5F"
      }
    },
    {
      "cell_type": "code",
      "source": [
        "def analogy(a,b,c):\n",
        "  ans = model.most_similar(positive=[b,c],negative=[a],topn =1) # E.g., woman+king-man =queen\n",
        "  print ('Answer: ', ans[0][0])"
      ],
      "metadata": {
        "id": "GMjUBZouzpvQ"
      },
      "execution_count": null,
      "outputs": []
    },
    {
      "cell_type": "markdown",
      "source": [
        "Use this funtion to find an answer for the query words (triples)\n"
      ],
      "metadata": {
        "id": "RAG4aT2i1152"
      }
    },
    {
      "cell_type": "code",
      "source": [
        "analogy('man','woman', 'king')"
      ],
      "metadata": {
        "colab": {
          "base_uri": "https://localhost:8080/"
        },
        "id": "P-EyTSHn2L7c",
        "outputId": "b5be4f08-a37a-4c2b-8b50-9f643c50d8a2"
      },
      "execution_count": null,
      "outputs": [
        {
          "output_type": "stream",
          "name": "stdout",
          "text": [
            "Answer:  queen\n"
          ]
        }
      ]
    },
    {
      "cell_type": "code",
      "source": [
        "analogy('apple','red', 'orange')"
      ],
      "metadata": {
        "colab": {
          "base_uri": "https://localhost:8080/"
        },
        "id": "gO8N9-J1z51N",
        "outputId": "2145bf19-6500-43e8-ae61-510355c1596c"
      },
      "execution_count": null,
      "outputs": [
        {
          "output_type": "stream",
          "name": "stdout",
          "text": [
            "Answer:  yellow\n"
          ]
        }
      ]
    },
    {
      "cell_type": "code",
      "source": [
        "analogy('russia','moscow', 'france')"
      ],
      "metadata": {
        "colab": {
          "base_uri": "https://localhost:8080/"
        },
        "id": "yq8oivUlz55V",
        "outputId": "050dfe0b-530c-44a0-84be-96a06ed0f977"
      },
      "execution_count": null,
      "outputs": [
        {
          "output_type": "stream",
          "name": "stdout",
          "text": [
            "Answer:  paris\n"
          ]
        }
      ]
    },
    {
      "cell_type": "code",
      "source": [
        "analogy('he','she', 'father')"
      ],
      "metadata": {
        "colab": {
          "base_uri": "https://localhost:8080/"
        },
        "id": "rQGQ4iiey8Yb",
        "outputId": "a3925975-bf40-44bc-d4c0-a66625b1be37"
      },
      "execution_count": null,
      "outputs": [
        {
          "output_type": "stream",
          "name": "stdout",
          "text": [
            "Answer:  mother\n"
          ]
        }
      ]
    },
    {
      "cell_type": "code",
      "source": [
        "analogy('he','she', 'boy')"
      ],
      "metadata": {
        "id": "AZuTV38dy8bF"
      },
      "execution_count": null,
      "outputs": []
    },
    {
      "cell_type": "code",
      "source": [
        "analogy('he','she', 'handsome')"
      ],
      "metadata": {
        "id": "MBszlt3Xy8eI"
      },
      "execution_count": null,
      "outputs": []
    },
    {
      "cell_type": "code",
      "source": [
        "analogy('he','she', 'schoolteacher')"
      ],
      "metadata": {
        "id": "1XU0lAbYy8g1"
      },
      "execution_count": null,
      "outputs": []
    },
    {
      "cell_type": "code",
      "source": [
        "analogy('he','she', 'doctor')"
      ],
      "metadata": {
        "id": "T-tJTKsvzyq5"
      },
      "execution_count": null,
      "outputs": []
    },
    {
      "cell_type": "code",
      "source": [
        "analogy('she','he', 'nurse')"
      ],
      "metadata": {
        "id": "K1geaPrRzigQ"
      },
      "execution_count": null,
      "outputs": []
    },
    {
      "cell_type": "code",
      "source": [
        "analogy('she','he', 'receptionist')"
      ],
      "metadata": {
        "id": "EV8SWEwU1TPf"
      },
      "execution_count": null,
      "outputs": []
    },
    {
      "cell_type": "code",
      "source": [
        "analogy('he','she', 'pilot')"
      ],
      "metadata": {
        "id": "wsORsDaZ1iRd"
      },
      "execution_count": null,
      "outputs": []
    },
    {
      "cell_type": "code",
      "source": [
        "analogy('he','she', 'chef')"
      ],
      "metadata": {
        "id": "Zl9EVGiV1OGr"
      },
      "execution_count": null,
      "outputs": []
    }
  ]
}