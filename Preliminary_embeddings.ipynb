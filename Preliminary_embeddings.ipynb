{
  "nbformat": 4,
  "nbformat_minor": 0,
  "metadata": {
    "colab": {
      "name": "Preliminary_embeddings.ipynb",
      "provenance": [],
      "collapsed_sections": [],
      "include_colab_link": true
    },
    "kernelspec": {
      "display_name": "Python 3",
      "language": "python",
      "name": "python3"
    },
    "language_info": {
      "codemirror_mode": {
        "name": "ipython",
        "version": 3
      },
      "file_extension": ".py",
      "mimetype": "text/x-python",
      "name": "python",
      "nbconvert_exporter": "python",
      "pygments_lexer": "ipython3",
      "version": "3.7.7"
    }
  },
  "cells": [
    {
      "cell_type": "markdown",
      "metadata": {
        "id": "view-in-github",
        "colab_type": "text"
      },
      "source": [
        "<a href=\"https://colab.research.google.com/github/CMOONCS/NLP-Gender-Bias/blob/main/Preliminary_embeddings.ipynb\" target=\"_parent\"><img src=\"https://colab.research.google.com/assets/colab-badge.svg\" alt=\"Open In Colab\"/></a>"
      ]
    },
    {
      "cell_type": "markdown",
      "metadata": {
        "id": "vbC2Wp7rgnCn"
      },
      "source": [
        "<b>Install libraries if needed</b>\n",
        "\n",
        "<i>Note: To make and save the changes to the colab notebook go to 'File -> Save a copy in Drive' </i>\n"
      ]
    },
    {
      "cell_type": "code",
      "metadata": {
        "id": "LbHS6YRmgnCr",
        "colab": {
          "base_uri": "https://localhost:8080/"
        },
        "outputId": "04df47ef-5424-40c7-d6c5-042b094abb65"
      },
      "source": [
        "!pip install pandas\n",
        "!pip install sklearn\n",
        "!pip install gensim"
      ],
      "execution_count": null,
      "outputs": [
        {
          "output_type": "stream",
          "name": "stdout",
          "text": [
            "Requirement already satisfied: pandas in /usr/local/lib/python3.7/dist-packages (1.3.5)\n",
            "Requirement already satisfied: pytz>=2017.3 in /usr/local/lib/python3.7/dist-packages (from pandas) (2022.1)\n",
            "Requirement already satisfied: numpy>=1.17.3 in /usr/local/lib/python3.7/dist-packages (from pandas) (1.21.6)\n",
            "Requirement already satisfied: python-dateutil>=2.7.3 in /usr/local/lib/python3.7/dist-packages (from pandas) (2.8.2)\n",
            "Requirement already satisfied: six>=1.5 in /usr/local/lib/python3.7/dist-packages (from python-dateutil>=2.7.3->pandas) (1.15.0)\n",
            "Requirement already satisfied: sklearn in /usr/local/lib/python3.7/dist-packages (0.0)\n",
            "Requirement already satisfied: scikit-learn in /usr/local/lib/python3.7/dist-packages (from sklearn) (1.0.2)\n",
            "Requirement already satisfied: threadpoolctl>=2.0.0 in /usr/local/lib/python3.7/dist-packages (from scikit-learn->sklearn) (3.1.0)\n",
            "Requirement already satisfied: joblib>=0.11 in /usr/local/lib/python3.7/dist-packages (from scikit-learn->sklearn) (1.1.0)\n",
            "Requirement already satisfied: numpy>=1.14.6 in /usr/local/lib/python3.7/dist-packages (from scikit-learn->sklearn) (1.21.6)\n",
            "Requirement already satisfied: scipy>=1.1.0 in /usr/local/lib/python3.7/dist-packages (from scikit-learn->sklearn) (1.4.1)\n",
            "Requirement already satisfied: gensim in /usr/local/lib/python3.7/dist-packages (3.6.0)\n",
            "Requirement already satisfied: smart-open>=1.2.1 in /usr/local/lib/python3.7/dist-packages (from gensim) (5.2.1)\n",
            "Requirement already satisfied: scipy>=0.18.1 in /usr/local/lib/python3.7/dist-packages (from gensim) (1.4.1)\n",
            "Requirement already satisfied: six>=1.5.0 in /usr/local/lib/python3.7/dist-packages (from gensim) (1.15.0)\n",
            "Requirement already satisfied: numpy>=1.11.3 in /usr/local/lib/python3.7/dist-packages (from gensim) (1.21.6)\n"
          ]
        }
      ]
    },
    {
      "cell_type": "markdown",
      "source": [
        "##### <b>Import libraries and give input corpus "
      ],
      "metadata": {
        "id": "dIC06M19aOum"
      }
    },
    {
      "cell_type": "code",
      "source": [
        "import pandas as pd\n",
        "import numpy as np\n",
        "import sklearn\n",
        "#### Define Training courpus\n",
        "CORPUS1= ['Good car',\n",
        "   'Good and fast',\n",
        "    'I like this car']\n",
        "\n",
        "\n",
        "#Can also try other corups    \n",
        "\"\"\"\n",
        "### Other corpus sets can be tried out ###\n",
        "CORPUS2 = ['the green car is fast',\n",
        "'The blue car has low mileage',\n",
        "'Your car has high mileage',\n",
        "'I buy green shirt because it fits my blue eyes']\n",
        "\n",
        "CORPUS3 = [\"the house had a tiny little mouse\", \n",
        "\"the cat saw the mouse\", \n",
        "\"the mouse ran away from the house\", \n",
        "\"the cat finally ate the mouse\", \n",
        "\"the end of the mouse story\"]\n",
        "\"\"\""
      ],
      "metadata": {
        "colab": {
          "base_uri": "https://localhost:8080/",
          "height": 71
        },
        "id": "QOBCeu-faL3u",
        "outputId": "cd7e5657-f818-4f12-9a68-bff7e66a2a4d"
      },
      "execution_count": null,
      "outputs": [
        {
          "output_type": "execute_result",
          "data": {
            "text/plain": [
              "'\\n### Other corpus sets can be tried out ###\\nCORPUS2 = [\\'the green car is fast\\',\\n\\'The blue car has low mileage\\',\\n\\'Your car has high mileage\\',\\n\\'I buy green shirt because it fits my blue eyes\\']\\n\\nCORPUS3 = [\"the house had a tiny little mouse\", \\n\"the cat saw the mouse\", \\n\"the mouse ran away from the house\", \\n\"the cat finally ate the mouse\", \\n\"the end of the mouse story\"]\\n'"
            ],
            "application/vnd.google.colaboratory.intrinsic+json": {
              "type": "string"
            }
          },
          "metadata": {},
          "execution_count": 2
        }
      ]
    },
    {
      "cell_type": "markdown",
      "metadata": {
        "id": "_mxNSbSYgnCs"
      },
      "source": [
        "# 1. Bag-of-words (BoW) Model \n",
        "The following code models text documents using bag-of-words (BoW). Here are three simple sentences (text documents) :"
      ]
    },
    {
      "cell_type": "markdown",
      "metadata": {
        "id": "5A-fxDh2gnCs"
      },
      "source": [
        "## 1.1 A  unigram model"
      ]
    },
    {
      "cell_type": "code",
      "metadata": {
        "id": "MH2nf6qsgnCs"
      },
      "source": [
        "\n",
        "### BoW model\n",
        "from sklearn.feature_extraction.text import CountVectorizer\n",
        "def bow_generator1(corpus, ngram_range=(1,1)):# a unigram model\n",
        "    vectorizer = CountVectorizer(min_df=1, ngram_range=ngram_range)\n",
        "    features = vectorizer.fit_transform(corpus)\n",
        "    return vectorizer, features\n",
        " \n",
        " \n",
        "# build BoW vectorizer and get terms\n",
        "bow_vectorizer1, bow_terms1 = bow_generator1(CORPUS1)\n"
      ],
      "execution_count": null,
      "outputs": []
    },
    {
      "cell_type": "markdown",
      "metadata": {
        "id": "sQuPfdL3gnCt"
      },
      "source": [
        "#### 1.1.1 Based on these  text documents, a list of terms is constructed as follows:"
      ]
    },
    {
      "cell_type": "code",
      "metadata": {
        "id": "ShTX25ZhgnCt",
        "colab": {
          "base_uri": "https://localhost:8080/"
        },
        "outputId": "618b7887-abb1-44b9-9834-f15153e4fcee"
      },
      "source": [
        "term_names1 = bow_vectorizer1.get_feature_names_out()\n",
        "print (\"Term names\",term_names1)\n",
        "print ('Number of terms:',len(term_names1))"
      ],
      "execution_count": null,
      "outputs": [
        {
          "output_type": "stream",
          "name": "stdout",
          "text": [
            "Term names ['and' 'car' 'fast' 'good' 'like' 'this']\n",
            "Number of terms: 6\n"
          ]
        }
      ]
    },
    {
      "cell_type": "markdown",
      "metadata": {
        "id": "p2fBrXFgikAz"
      },
      "source": [
        "#### 1.1.2 Construct the following lists to record the term frequencies  of distinct terms "
      ]
    },
    {
      "cell_type": "code",
      "metadata": {
        "id": "FHbJD6O_yz22",
        "colab": {
          "base_uri": "https://localhost:8080/"
        },
        "outputId": "240dd439-32f9-4c66-c1c9-76a3d7ff3d24"
      },
      "source": [
        "terms1 = (bow_terms1.todense())\n",
        "print (terms1)"
      ],
      "execution_count": null,
      "outputs": [
        {
          "output_type": "stream",
          "name": "stdout",
          "text": [
            "[[0 1 0 1 0 0]\n",
            " [1 0 1 1 0 0]\n",
            " [0 1 0 0 1 1]]\n"
          ]
        }
      ]
    },
    {
      "cell_type": "markdown",
      "metadata": {
        "id": "XYu2TsWCgnCv"
      },
      "source": [
        "#### 1.1.3 Create a data frame from the vectors"
      ]
    },
    {
      "cell_type": "code",
      "metadata": {
        "id": "fNfaVc8NgnCv",
        "colab": {
          "base_uri": "https://localhost:8080/",
          "height": 143
        },
        "outputId": "45e03a99-8a2d-42c5-9667-04677646a84d"
      },
      "source": [
        "terms1 = (bow_terms1.todense())\n",
        "df_train1 = pd.DataFrame(data=terms1, columns=term_names1)\n",
        "df_train1.head()"
      ],
      "execution_count": null,
      "outputs": [
        {
          "output_type": "execute_result",
          "data": {
            "text/plain": [
              "   and  car  fast  good  like  this\n",
              "0    0    1     0     1     0     0\n",
              "1    1    0     1     1     0     0\n",
              "2    0    1     0     0     1     1"
            ],
            "text/html": [
              "\n",
              "  <div id=\"df-01b0f032-7f0a-4e73-ad69-0a8878d5e527\">\n",
              "    <div class=\"colab-df-container\">\n",
              "      <div>\n",
              "<style scoped>\n",
              "    .dataframe tbody tr th:only-of-type {\n",
              "        vertical-align: middle;\n",
              "    }\n",
              "\n",
              "    .dataframe tbody tr th {\n",
              "        vertical-align: top;\n",
              "    }\n",
              "\n",
              "    .dataframe thead th {\n",
              "        text-align: right;\n",
              "    }\n",
              "</style>\n",
              "<table border=\"1\" class=\"dataframe\">\n",
              "  <thead>\n",
              "    <tr style=\"text-align: right;\">\n",
              "      <th></th>\n",
              "      <th>and</th>\n",
              "      <th>car</th>\n",
              "      <th>fast</th>\n",
              "      <th>good</th>\n",
              "      <th>like</th>\n",
              "      <th>this</th>\n",
              "    </tr>\n",
              "  </thead>\n",
              "  <tbody>\n",
              "    <tr>\n",
              "      <th>0</th>\n",
              "      <td>0</td>\n",
              "      <td>1</td>\n",
              "      <td>0</td>\n",
              "      <td>1</td>\n",
              "      <td>0</td>\n",
              "      <td>0</td>\n",
              "    </tr>\n",
              "    <tr>\n",
              "      <th>1</th>\n",
              "      <td>1</td>\n",
              "      <td>0</td>\n",
              "      <td>1</td>\n",
              "      <td>1</td>\n",
              "      <td>0</td>\n",
              "      <td>0</td>\n",
              "    </tr>\n",
              "    <tr>\n",
              "      <th>2</th>\n",
              "      <td>0</td>\n",
              "      <td>1</td>\n",
              "      <td>0</td>\n",
              "      <td>0</td>\n",
              "      <td>1</td>\n",
              "      <td>1</td>\n",
              "    </tr>\n",
              "  </tbody>\n",
              "</table>\n",
              "</div>\n",
              "      <button class=\"colab-df-convert\" onclick=\"convertToInteractive('df-01b0f032-7f0a-4e73-ad69-0a8878d5e527')\"\n",
              "              title=\"Convert this dataframe to an interactive table.\"\n",
              "              style=\"display:none;\">\n",
              "        \n",
              "  <svg xmlns=\"http://www.w3.org/2000/svg\" height=\"24px\"viewBox=\"0 0 24 24\"\n",
              "       width=\"24px\">\n",
              "    <path d=\"M0 0h24v24H0V0z\" fill=\"none\"/>\n",
              "    <path d=\"M18.56 5.44l.94 2.06.94-2.06 2.06-.94-2.06-.94-.94-2.06-.94 2.06-2.06.94zm-11 1L8.5 8.5l.94-2.06 2.06-.94-2.06-.94L8.5 2.5l-.94 2.06-2.06.94zm10 10l.94 2.06.94-2.06 2.06-.94-2.06-.94-.94-2.06-.94 2.06-2.06.94z\"/><path d=\"M17.41 7.96l-1.37-1.37c-.4-.4-.92-.59-1.43-.59-.52 0-1.04.2-1.43.59L10.3 9.45l-7.72 7.72c-.78.78-.78 2.05 0 2.83L4 21.41c.39.39.9.59 1.41.59.51 0 1.02-.2 1.41-.59l7.78-7.78 2.81-2.81c.8-.78.8-2.07 0-2.86zM5.41 20L4 18.59l7.72-7.72 1.47 1.35L5.41 20z\"/>\n",
              "  </svg>\n",
              "      </button>\n",
              "      \n",
              "  <style>\n",
              "    .colab-df-container {\n",
              "      display:flex;\n",
              "      flex-wrap:wrap;\n",
              "      gap: 12px;\n",
              "    }\n",
              "\n",
              "    .colab-df-convert {\n",
              "      background-color: #E8F0FE;\n",
              "      border: none;\n",
              "      border-radius: 50%;\n",
              "      cursor: pointer;\n",
              "      display: none;\n",
              "      fill: #1967D2;\n",
              "      height: 32px;\n",
              "      padding: 0 0 0 0;\n",
              "      width: 32px;\n",
              "    }\n",
              "\n",
              "    .colab-df-convert:hover {\n",
              "      background-color: #E2EBFA;\n",
              "      box-shadow: 0px 1px 2px rgba(60, 64, 67, 0.3), 0px 1px 3px 1px rgba(60, 64, 67, 0.15);\n",
              "      fill: #174EA6;\n",
              "    }\n",
              "\n",
              "    [theme=dark] .colab-df-convert {\n",
              "      background-color: #3B4455;\n",
              "      fill: #D2E3FC;\n",
              "    }\n",
              "\n",
              "    [theme=dark] .colab-df-convert:hover {\n",
              "      background-color: #434B5C;\n",
              "      box-shadow: 0px 1px 3px 1px rgba(0, 0, 0, 0.15);\n",
              "      filter: drop-shadow(0px 1px 2px rgba(0, 0, 0, 0.3));\n",
              "      fill: #FFFFFF;\n",
              "    }\n",
              "  </style>\n",
              "\n",
              "      <script>\n",
              "        const buttonEl =\n",
              "          document.querySelector('#df-01b0f032-7f0a-4e73-ad69-0a8878d5e527 button.colab-df-convert');\n",
              "        buttonEl.style.display =\n",
              "          google.colab.kernel.accessAllowed ? 'block' : 'none';\n",
              "\n",
              "        async function convertToInteractive(key) {\n",
              "          const element = document.querySelector('#df-01b0f032-7f0a-4e73-ad69-0a8878d5e527');\n",
              "          const dataTable =\n",
              "            await google.colab.kernel.invokeFunction('convertToInteractive',\n",
              "                                                     [key], {});\n",
              "          if (!dataTable) return;\n",
              "\n",
              "          const docLinkHtml = 'Like what you see? Visit the ' +\n",
              "            '<a target=\"_blank\" href=https://colab.research.google.com/notebooks/data_table.ipynb>data table notebook</a>'\n",
              "            + ' to learn more about interactive tables.';\n",
              "          element.innerHTML = '';\n",
              "          dataTable['output_type'] = 'display_data';\n",
              "          await google.colab.output.renderOutput(dataTable, element);\n",
              "          const docLink = document.createElement('div');\n",
              "          docLink.innerHTML = docLinkHtml;\n",
              "          element.appendChild(docLink);\n",
              "        }\n",
              "      </script>\n",
              "    </div>\n",
              "  </div>\n",
              "  "
            ]
          },
          "metadata": {},
          "execution_count": 6
        }
      ]
    },
    {
      "cell_type": "markdown",
      "metadata": {
        "id": "Tv4-aAwNgnCw"
      },
      "source": [
        "## 1.2 n-gram (n=2)"
      ]
    },
    {
      "cell_type": "code",
      "metadata": {
        "id": "KfR1Ywj4gnCw"
      },
      "source": [
        "## here we define n=2\n",
        "def bow_generator2(corpus, ngram_range=(1,2)):# a bigram model\n",
        "    vectorizer = CountVectorizer(min_df=1, ngram_range=ngram_range)\n",
        "    features = vectorizer.fit_transform(corpus)\n",
        "    return vectorizer, features\n",
        " \n",
        "# build bow vectorizer and get terms\n",
        "bow_vectorizer2, bow_terms2 = bow_generator2(CORPUS1)"
      ],
      "execution_count": null,
      "outputs": []
    },
    {
      "cell_type": "markdown",
      "metadata": {
        "id": "OCArZZCqgnCw"
      },
      "source": [
        "#### 1.2.1 Based on the text documents, a list is constructed as follows for each document:"
      ]
    },
    {
      "cell_type": "code",
      "metadata": {
        "id": "2Xq3zM3EgnCw",
        "colab": {
          "base_uri": "https://localhost:8080/"
        },
        "outputId": "fe76ed5a-b02e-4ac7-ca02-93ab77f4613a"
      },
      "source": [
        "# print the term names\n",
        "term_names2 = bow_vectorizer2.get_feature_names_out()\n",
        "print (term_names2)"
      ],
      "execution_count": null,
      "outputs": [
        {
          "output_type": "stream",
          "name": "stdout",
          "text": [
            "['and' 'and fast' 'car' 'fast' 'good' 'good and' 'good car' 'like'\n",
            " 'like this' 'this' 'this car']\n"
          ]
        }
      ]
    },
    {
      "cell_type": "markdown",
      "metadata": {
        "id": "lKUAfMxugnCx"
      },
      "source": [
        "#### 1.2.2  Construct the following lists to record the term frequencies of all the distinct terms "
      ]
    },
    {
      "cell_type": "code",
      "metadata": {
        "id": "Tn008p1fgnCx",
        "colab": {
          "base_uri": "https://localhost:8080/"
        },
        "outputId": "2cb27f4d-328c-4bf8-f517-a70c592e0a5e"
      },
      "source": [
        "terms2 = (bow_terms2.todense())\n",
        "print (terms2)"
      ],
      "execution_count": null,
      "outputs": [
        {
          "output_type": "stream",
          "name": "stdout",
          "text": [
            "[[0 0 1 0 1 0 1 0 0 0 0]\n",
            " [1 1 0 1 1 1 0 0 0 0 0]\n",
            " [0 0 1 0 0 0 0 1 1 1 1]]\n"
          ]
        }
      ]
    },
    {
      "cell_type": "markdown",
      "metadata": {
        "id": "GMqqyO1OgnCz"
      },
      "source": [
        "#### 1.2.3 Create a data frame from the vectors"
      ]
    },
    {
      "cell_type": "code",
      "metadata": {
        "id": "8IDOk0qMgnCz",
        "colab": {
          "base_uri": "https://localhost:8080/",
          "height": 143
        },
        "outputId": "35ffa530-28af-4159-d119-0483fcf23333"
      },
      "source": [
        "df_train2 = pd.DataFrame(data=terms2, columns=term_names2)\n",
        "df_train2.head()"
      ],
      "execution_count": null,
      "outputs": [
        {
          "output_type": "execute_result",
          "data": {
            "text/plain": [
              "   and  and fast  car  fast  good  good and  good car  like  like this  this  \\\n",
              "0    0         0    1     0     1         0         1     0          0     0   \n",
              "1    1         1    0     1     1         1         0     0          0     0   \n",
              "2    0         0    1     0     0         0         0     1          1     1   \n",
              "\n",
              "   this car  \n",
              "0         0  \n",
              "1         0  \n",
              "2         1  "
            ],
            "text/html": [
              "\n",
              "  <div id=\"df-d3ed0252-e2d5-4327-b744-6b0bbe9ef21f\">\n",
              "    <div class=\"colab-df-container\">\n",
              "      <div>\n",
              "<style scoped>\n",
              "    .dataframe tbody tr th:only-of-type {\n",
              "        vertical-align: middle;\n",
              "    }\n",
              "\n",
              "    .dataframe tbody tr th {\n",
              "        vertical-align: top;\n",
              "    }\n",
              "\n",
              "    .dataframe thead th {\n",
              "        text-align: right;\n",
              "    }\n",
              "</style>\n",
              "<table border=\"1\" class=\"dataframe\">\n",
              "  <thead>\n",
              "    <tr style=\"text-align: right;\">\n",
              "      <th></th>\n",
              "      <th>and</th>\n",
              "      <th>and fast</th>\n",
              "      <th>car</th>\n",
              "      <th>fast</th>\n",
              "      <th>good</th>\n",
              "      <th>good and</th>\n",
              "      <th>good car</th>\n",
              "      <th>like</th>\n",
              "      <th>like this</th>\n",
              "      <th>this</th>\n",
              "      <th>this car</th>\n",
              "    </tr>\n",
              "  </thead>\n",
              "  <tbody>\n",
              "    <tr>\n",
              "      <th>0</th>\n",
              "      <td>0</td>\n",
              "      <td>0</td>\n",
              "      <td>1</td>\n",
              "      <td>0</td>\n",
              "      <td>1</td>\n",
              "      <td>0</td>\n",
              "      <td>1</td>\n",
              "      <td>0</td>\n",
              "      <td>0</td>\n",
              "      <td>0</td>\n",
              "      <td>0</td>\n",
              "    </tr>\n",
              "    <tr>\n",
              "      <th>1</th>\n",
              "      <td>1</td>\n",
              "      <td>1</td>\n",
              "      <td>0</td>\n",
              "      <td>1</td>\n",
              "      <td>1</td>\n",
              "      <td>1</td>\n",
              "      <td>0</td>\n",
              "      <td>0</td>\n",
              "      <td>0</td>\n",
              "      <td>0</td>\n",
              "      <td>0</td>\n",
              "    </tr>\n",
              "    <tr>\n",
              "      <th>2</th>\n",
              "      <td>0</td>\n",
              "      <td>0</td>\n",
              "      <td>1</td>\n",
              "      <td>0</td>\n",
              "      <td>0</td>\n",
              "      <td>0</td>\n",
              "      <td>0</td>\n",
              "      <td>1</td>\n",
              "      <td>1</td>\n",
              "      <td>1</td>\n",
              "      <td>1</td>\n",
              "    </tr>\n",
              "  </tbody>\n",
              "</table>\n",
              "</div>\n",
              "      <button class=\"colab-df-convert\" onclick=\"convertToInteractive('df-d3ed0252-e2d5-4327-b744-6b0bbe9ef21f')\"\n",
              "              title=\"Convert this dataframe to an interactive table.\"\n",
              "              style=\"display:none;\">\n",
              "        \n",
              "  <svg xmlns=\"http://www.w3.org/2000/svg\" height=\"24px\"viewBox=\"0 0 24 24\"\n",
              "       width=\"24px\">\n",
              "    <path d=\"M0 0h24v24H0V0z\" fill=\"none\"/>\n",
              "    <path d=\"M18.56 5.44l.94 2.06.94-2.06 2.06-.94-2.06-.94-.94-2.06-.94 2.06-2.06.94zm-11 1L8.5 8.5l.94-2.06 2.06-.94-2.06-.94L8.5 2.5l-.94 2.06-2.06.94zm10 10l.94 2.06.94-2.06 2.06-.94-2.06-.94-.94-2.06-.94 2.06-2.06.94z\"/><path d=\"M17.41 7.96l-1.37-1.37c-.4-.4-.92-.59-1.43-.59-.52 0-1.04.2-1.43.59L10.3 9.45l-7.72 7.72c-.78.78-.78 2.05 0 2.83L4 21.41c.39.39.9.59 1.41.59.51 0 1.02-.2 1.41-.59l7.78-7.78 2.81-2.81c.8-.78.8-2.07 0-2.86zM5.41 20L4 18.59l7.72-7.72 1.47 1.35L5.41 20z\"/>\n",
              "  </svg>\n",
              "      </button>\n",
              "      \n",
              "  <style>\n",
              "    .colab-df-container {\n",
              "      display:flex;\n",
              "      flex-wrap:wrap;\n",
              "      gap: 12px;\n",
              "    }\n",
              "\n",
              "    .colab-df-convert {\n",
              "      background-color: #E8F0FE;\n",
              "      border: none;\n",
              "      border-radius: 50%;\n",
              "      cursor: pointer;\n",
              "      display: none;\n",
              "      fill: #1967D2;\n",
              "      height: 32px;\n",
              "      padding: 0 0 0 0;\n",
              "      width: 32px;\n",
              "    }\n",
              "\n",
              "    .colab-df-convert:hover {\n",
              "      background-color: #E2EBFA;\n",
              "      box-shadow: 0px 1px 2px rgba(60, 64, 67, 0.3), 0px 1px 3px 1px rgba(60, 64, 67, 0.15);\n",
              "      fill: #174EA6;\n",
              "    }\n",
              "\n",
              "    [theme=dark] .colab-df-convert {\n",
              "      background-color: #3B4455;\n",
              "      fill: #D2E3FC;\n",
              "    }\n",
              "\n",
              "    [theme=dark] .colab-df-convert:hover {\n",
              "      background-color: #434B5C;\n",
              "      box-shadow: 0px 1px 3px 1px rgba(0, 0, 0, 0.15);\n",
              "      filter: drop-shadow(0px 1px 2px rgba(0, 0, 0, 0.3));\n",
              "      fill: #FFFFFF;\n",
              "    }\n",
              "  </style>\n",
              "\n",
              "      <script>\n",
              "        const buttonEl =\n",
              "          document.querySelector('#df-d3ed0252-e2d5-4327-b744-6b0bbe9ef21f button.colab-df-convert');\n",
              "        buttonEl.style.display =\n",
              "          google.colab.kernel.accessAllowed ? 'block' : 'none';\n",
              "\n",
              "        async function convertToInteractive(key) {\n",
              "          const element = document.querySelector('#df-d3ed0252-e2d5-4327-b744-6b0bbe9ef21f');\n",
              "          const dataTable =\n",
              "            await google.colab.kernel.invokeFunction('convertToInteractive',\n",
              "                                                     [key], {});\n",
              "          if (!dataTable) return;\n",
              "\n",
              "          const docLinkHtml = 'Like what you see? Visit the ' +\n",
              "            '<a target=\"_blank\" href=https://colab.research.google.com/notebooks/data_table.ipynb>data table notebook</a>'\n",
              "            + ' to learn more about interactive tables.';\n",
              "          element.innerHTML = '';\n",
              "          dataTable['output_type'] = 'display_data';\n",
              "          await google.colab.output.renderOutput(dataTable, element);\n",
              "          const docLink = document.createElement('div');\n",
              "          docLink.innerHTML = docLinkHtml;\n",
              "          element.appendChild(docLink);\n",
              "        }\n",
              "      </script>\n",
              "    </div>\n",
              "  </div>\n",
              "  "
            ]
          },
          "metadata": {},
          "execution_count": 10
        }
      ]
    },
    {
      "cell_type": "markdown",
      "metadata": {
        "id": "nDjkMdnJgnC0"
      },
      "source": [
        "# 2. Term Frequency–Inverse Document Frequency (TF-IDF) Model\n",
        "It is a numerical statistic that is intended to reflect how important a word is to a document in a collection or corpus. It is often used as a weighting factor in searches of information retrieval, text mining, and user modeling. The TF–IDF value increases proportionally to the number of times a word appears in the document and is offset by the number of documents in the corpus that contain the word, which helps to adjust for the fact that some words appear more frequently in general. <a href=\"https://en.wikipedia.org/wiki/Tf–idf\"> Find more information using this wikipedia link</a>"
      ]
    },
    {
      "cell_type": "code",
      "metadata": {
        "id": "bxHRBHR3gnC6",
        "colab": {
          "base_uri": "https://localhost:8080/",
          "height": 142
        },
        "outputId": "d5bc0bb5-b656-42ec-d1d1-5e88ff0a7ad2"
      },
      "source": [
        "from sklearn.feature_extraction.text import TfidfTransformer\n",
        "transformer = TfidfTransformer(norm='l2',smooth_idf=True, use_idf=True) \n",
        "tfidf_matrix = transformer.fit_transform(bow_terms2)\n",
        "terms3 = np.round(tfidf_matrix.todense(), 1)\n",
        " \n",
        "df_tfidf = pd.DataFrame(data=terms3, columns=term_names2)\n",
        "df_tfidf.head()"
      ],
      "execution_count": null,
      "outputs": [
        {
          "output_type": "execute_result",
          "data": {
            "text/plain": [
              "   and  and fast  car  fast  good  good and  good car  like  like this  this  \\\n",
              "0  0.0       0.0  0.5   0.0   0.5       0.0       0.7   0.0        0.0   0.0   \n",
              "1  0.5       0.5  0.0   0.5   0.4       0.5       0.0   0.0        0.0   0.0   \n",
              "2  0.0       0.0  0.4   0.0   0.0       0.0       0.0   0.5        0.5   0.5   \n",
              "\n",
              "   this car  \n",
              "0       0.0  \n",
              "1       0.0  \n",
              "2       0.5  "
            ],
            "text/html": [
              "\n",
              "  <div id=\"df-2dbcaf2d-030f-415b-9c15-e1bb088e04ec\">\n",
              "    <div class=\"colab-df-container\">\n",
              "      <div>\n",
              "<style scoped>\n",
              "    .dataframe tbody tr th:only-of-type {\n",
              "        vertical-align: middle;\n",
              "    }\n",
              "\n",
              "    .dataframe tbody tr th {\n",
              "        vertical-align: top;\n",
              "    }\n",
              "\n",
              "    .dataframe thead th {\n",
              "        text-align: right;\n",
              "    }\n",
              "</style>\n",
              "<table border=\"1\" class=\"dataframe\">\n",
              "  <thead>\n",
              "    <tr style=\"text-align: right;\">\n",
              "      <th></th>\n",
              "      <th>and</th>\n",
              "      <th>and fast</th>\n",
              "      <th>car</th>\n",
              "      <th>fast</th>\n",
              "      <th>good</th>\n",
              "      <th>good and</th>\n",
              "      <th>good car</th>\n",
              "      <th>like</th>\n",
              "      <th>like this</th>\n",
              "      <th>this</th>\n",
              "      <th>this car</th>\n",
              "    </tr>\n",
              "  </thead>\n",
              "  <tbody>\n",
              "    <tr>\n",
              "      <th>0</th>\n",
              "      <td>0.0</td>\n",
              "      <td>0.0</td>\n",
              "      <td>0.5</td>\n",
              "      <td>0.0</td>\n",
              "      <td>0.5</td>\n",
              "      <td>0.0</td>\n",
              "      <td>0.7</td>\n",
              "      <td>0.0</td>\n",
              "      <td>0.0</td>\n",
              "      <td>0.0</td>\n",
              "      <td>0.0</td>\n",
              "    </tr>\n",
              "    <tr>\n",
              "      <th>1</th>\n",
              "      <td>0.5</td>\n",
              "      <td>0.5</td>\n",
              "      <td>0.0</td>\n",
              "      <td>0.5</td>\n",
              "      <td>0.4</td>\n",
              "      <td>0.5</td>\n",
              "      <td>0.0</td>\n",
              "      <td>0.0</td>\n",
              "      <td>0.0</td>\n",
              "      <td>0.0</td>\n",
              "      <td>0.0</td>\n",
              "    </tr>\n",
              "    <tr>\n",
              "      <th>2</th>\n",
              "      <td>0.0</td>\n",
              "      <td>0.0</td>\n",
              "      <td>0.4</td>\n",
              "      <td>0.0</td>\n",
              "      <td>0.0</td>\n",
              "      <td>0.0</td>\n",
              "      <td>0.0</td>\n",
              "      <td>0.5</td>\n",
              "      <td>0.5</td>\n",
              "      <td>0.5</td>\n",
              "      <td>0.5</td>\n",
              "    </tr>\n",
              "  </tbody>\n",
              "</table>\n",
              "</div>\n",
              "      <button class=\"colab-df-convert\" onclick=\"convertToInteractive('df-2dbcaf2d-030f-415b-9c15-e1bb088e04ec')\"\n",
              "              title=\"Convert this dataframe to an interactive table.\"\n",
              "              style=\"display:none;\">\n",
              "        \n",
              "  <svg xmlns=\"http://www.w3.org/2000/svg\" height=\"24px\"viewBox=\"0 0 24 24\"\n",
              "       width=\"24px\">\n",
              "    <path d=\"M0 0h24v24H0V0z\" fill=\"none\"/>\n",
              "    <path d=\"M18.56 5.44l.94 2.06.94-2.06 2.06-.94-2.06-.94-.94-2.06-.94 2.06-2.06.94zm-11 1L8.5 8.5l.94-2.06 2.06-.94-2.06-.94L8.5 2.5l-.94 2.06-2.06.94zm10 10l.94 2.06.94-2.06 2.06-.94-2.06-.94-.94-2.06-.94 2.06-2.06.94z\"/><path d=\"M17.41 7.96l-1.37-1.37c-.4-.4-.92-.59-1.43-.59-.52 0-1.04.2-1.43.59L10.3 9.45l-7.72 7.72c-.78.78-.78 2.05 0 2.83L4 21.41c.39.39.9.59 1.41.59.51 0 1.02-.2 1.41-.59l7.78-7.78 2.81-2.81c.8-.78.8-2.07 0-2.86zM5.41 20L4 18.59l7.72-7.72 1.47 1.35L5.41 20z\"/>\n",
              "  </svg>\n",
              "      </button>\n",
              "      \n",
              "  <style>\n",
              "    .colab-df-container {\n",
              "      display:flex;\n",
              "      flex-wrap:wrap;\n",
              "      gap: 12px;\n",
              "    }\n",
              "\n",
              "    .colab-df-convert {\n",
              "      background-color: #E8F0FE;\n",
              "      border: none;\n",
              "      border-radius: 50%;\n",
              "      cursor: pointer;\n",
              "      display: none;\n",
              "      fill: #1967D2;\n",
              "      height: 32px;\n",
              "      padding: 0 0 0 0;\n",
              "      width: 32px;\n",
              "    }\n",
              "\n",
              "    .colab-df-convert:hover {\n",
              "      background-color: #E2EBFA;\n",
              "      box-shadow: 0px 1px 2px rgba(60, 64, 67, 0.3), 0px 1px 3px 1px rgba(60, 64, 67, 0.15);\n",
              "      fill: #174EA6;\n",
              "    }\n",
              "\n",
              "    [theme=dark] .colab-df-convert {\n",
              "      background-color: #3B4455;\n",
              "      fill: #D2E3FC;\n",
              "    }\n",
              "\n",
              "    [theme=dark] .colab-df-convert:hover {\n",
              "      background-color: #434B5C;\n",
              "      box-shadow: 0px 1px 3px 1px rgba(0, 0, 0, 0.15);\n",
              "      filter: drop-shadow(0px 1px 2px rgba(0, 0, 0, 0.3));\n",
              "      fill: #FFFFFF;\n",
              "    }\n",
              "  </style>\n",
              "\n",
              "      <script>\n",
              "        const buttonEl =\n",
              "          document.querySelector('#df-2dbcaf2d-030f-415b-9c15-e1bb088e04ec button.colab-df-convert');\n",
              "        buttonEl.style.display =\n",
              "          google.colab.kernel.accessAllowed ? 'block' : 'none';\n",
              "\n",
              "        async function convertToInteractive(key) {\n",
              "          const element = document.querySelector('#df-2dbcaf2d-030f-415b-9c15-e1bb088e04ec');\n",
              "          const dataTable =\n",
              "            await google.colab.kernel.invokeFunction('convertToInteractive',\n",
              "                                                     [key], {});\n",
              "          if (!dataTable) return;\n",
              "\n",
              "          const docLinkHtml = 'Like what you see? Visit the ' +\n",
              "            '<a target=\"_blank\" href=https://colab.research.google.com/notebooks/data_table.ipynb>data table notebook</a>'\n",
              "            + ' to learn more about interactive tables.';\n",
              "          element.innerHTML = '';\n",
              "          dataTable['output_type'] = 'display_data';\n",
              "          await google.colab.output.renderOutput(dataTable, element);\n",
              "          const docLink = document.createElement('div');\n",
              "          docLink.innerHTML = docLinkHtml;\n",
              "          element.appendChild(docLink);\n",
              "        }\n",
              "      </script>\n",
              "    </div>\n",
              "  </div>\n",
              "  "
            ]
          },
          "metadata": {},
          "execution_count": 59
        }
      ]
    },
    {
      "cell_type": "markdown",
      "metadata": {
        "id": "bQPIyoHmgnC7"
      },
      "source": [
        "# 3.Word2vec \n",
        "(a short demo)"
      ]
    },
    {
      "cell_type": "markdown",
      "source": [
        "##### Install libraries if needed"
      ],
      "metadata": {
        "id": "o8BCXPHYc2nB"
      }
    },
    {
      "cell_type": "code",
      "metadata": {
        "id": "27dwhSAcgnC8",
        "colab": {
          "base_uri": "https://localhost:8080/"
        },
        "outputId": "0f5f902e-1f06-41fe-b932-91fd475f5726"
      },
      "source": [
        "!pip install nltk\n",
        "\n",
        "!pip install gensim"
      ],
      "execution_count": null,
      "outputs": [
        {
          "output_type": "stream",
          "name": "stdout",
          "text": [
            "Requirement already satisfied: nltk in /usr/local/lib/python3.7/dist-packages (3.2.5)\n",
            "Requirement already satisfied: six in /usr/local/lib/python3.7/dist-packages (from nltk) (1.15.0)\n",
            "Requirement already satisfied: gensim in /usr/local/lib/python3.7/dist-packages (3.6.0)\n",
            "Requirement already satisfied: smart-open>=1.2.1 in /usr/local/lib/python3.7/dist-packages (from gensim) (5.2.1)\n",
            "Requirement already satisfied: scipy>=0.18.1 in /usr/local/lib/python3.7/dist-packages (from gensim) (1.4.1)\n",
            "Requirement already satisfied: numpy>=1.11.3 in /usr/local/lib/python3.7/dist-packages (from gensim) (1.21.6)\n",
            "Requirement already satisfied: six>=1.5.0 in /usr/local/lib/python3.7/dist-packages (from gensim) (1.15.0)\n"
          ]
        }
      ]
    },
    {
      "cell_type": "markdown",
      "metadata": {
        "id": "lV2B967zgnC8"
      },
      "source": [
        "### 3.1 Tokenize the input text"
      ]
    },
    {
      "cell_type": "code",
      "metadata": {
        "id": "yLFfoQ4LgnC9",
        "colab": {
          "base_uri": "https://localhost:8080/"
        },
        "outputId": "f8405dc3-6a8e-4f80-9276-a44a5ec8ecac"
      },
      "source": [
        "import nltk\n",
        "nltk.download('punkt')\n",
        "# tokenize corpora\n",
        "TOKENIZED_CORPUS = [nltk.word_tokenize(sentence) for sentence in CORPUS1]## use same CORPUS to train\n",
        "#new_doc = ['Your car has high mileage']\n",
        "#tokenized_new_doc = [nltk.word_tokenize(sentence) for sentence in new_doc]\n",
        "#print(tokenized_new_doc)"
      ],
      "execution_count": null,
      "outputs": [
        {
          "output_type": "stream",
          "name": "stdout",
          "text": [
            "[nltk_data] Downloading package punkt to /root/nltk_data...\n",
            "[nltk_data]   Unzipping tokenizers/punkt.zip.\n"
          ]
        }
      ]
    },
    {
      "cell_type": "code",
      "metadata": {
        "id": "qyd44mrAgnC9",
        "colab": {
          "base_uri": "https://localhost:8080/"
        },
        "outputId": "f570d53e-713f-4f9d-92d1-cf4e6f64d707"
      },
      "source": [
        "### Check tokenize text\n",
        "TOKENIZED_CORPUS"
      ],
      "execution_count": null,
      "outputs": [
        {
          "output_type": "execute_result",
          "data": {
            "text/plain": [
              "[['Good', 'car'], ['Good', 'and', 'fast'], ['I', 'like', 'this', 'car']]"
            ]
          },
          "metadata": {},
          "execution_count": 62
        }
      ]
    },
    {
      "cell_type": "markdown",
      "metadata": {
        "id": "tmKXtyPEgnC9"
      },
      "source": [
        "### 3.3 Dictionary of words in the corpus"
      ]
    },
    {
      "cell_type": "code",
      "metadata": {
        "id": "XA1GNgrDgnC-",
        "colab": {
          "base_uri": "https://localhost:8080/"
        },
        "outputId": "a903b5df-92e2-44b8-a448-245f64d73db4"
      },
      "source": [
        "from gensim import corpora\n",
        "dictionary = corpora.Dictionary(TOKENIZED_CORPUS)\n",
        "print(dictionary.token2id)"
      ],
      "execution_count": null,
      "outputs": [
        {
          "output_type": "stream",
          "name": "stdout",
          "text": [
            "{'Good': 0, 'car': 1, 'and': 2, 'fast': 3, 'I': 4, 'like': 5, 'this': 6}\n"
          ]
        }
      ]
    },
    {
      "cell_type": "markdown",
      "metadata": {
        "id": "qxwvuYMUgnC_"
      },
      "source": [
        "### 3.4 Use gensim library to implement Word2Vec"
      ]
    },
    {
      "cell_type": "code",
      "metadata": {
        "id": "nmdE7FY5gnDA"
      },
      "source": [
        "import gensim\n",
        "# build the word2vec model on our training corpus\n",
        "model = gensim.models.Word2Vec(TOKENIZED_CORPUS, size=5, window=2, min_count=1)# size= 5 is dimension of one vector\n",
        "model.train(TOKENIZED_CORPUS,total_examples=model.corpus_count, epochs=model.epochs)\n",
        "model.save(\"model\")"
      ],
      "execution_count": null,
      "outputs": []
    },
    {
      "cell_type": "code",
      "metadata": {
        "id": "bEbUUWeHCsa2"
      },
      "source": [
        ""
      ],
      "execution_count": null,
      "outputs": []
    },
    {
      "cell_type": "markdown",
      "metadata": {
        "id": "UfEgHNDFgnDA"
      },
      "source": [
        "### 3.5 Vector representation for words (present in corpus dictionary)"
      ]
    },
    {
      "cell_type": "code",
      "metadata": {
        "id": "T3vadf9qgnDB",
        "colab": {
          "base_uri": "https://localhost:8080/"
        },
        "outputId": "9f0f9ac0-2c57-49c1-871e-20f34bf1e2d6"
      },
      "source": [
        "print('Representation of word \\'Good\\'',model.wv['Good'])"
      ],
      "execution_count": null,
      "outputs": [
        {
          "output_type": "stream",
          "name": "stdout",
          "text": [
            "Representation of word 'Good' [ 0.08090847 -0.09519257 -0.01315557  0.08051383  0.09837685]\n"
          ]
        }
      ]
    },
    {
      "cell_type": "markdown",
      "metadata": {
        "id": "1-fOUWmUknXa"
      },
      "source": [
        "### 3.6 Plot word vectors using PCA"
      ]
    },
    {
      "cell_type": "code",
      "metadata": {
        "id": "Aeff1mb6kgzy",
        "colab": {
          "base_uri": "https://localhost:8080/",
          "height": 320
        },
        "outputId": "4a6c84fd-2a37-4021-f4a1-2deba19165d4"
      },
      "source": [
        "import matplotlib.pyplot as plt\n",
        "from sklearn.decomposition import PCA\n",
        "X = model[model.wv.vocab]\n",
        "pca = PCA(n_components=2)\n",
        "result = pca.fit_transform(X)\n",
        "# create a scatter plot of the projection\n",
        "plt.scatter(result[:, 0], result[:, 1])\n",
        "words = list(model.wv.vocab)\n",
        "\n",
        "for i, word in enumerate(words):\n",
        "    plt.annotate(word, xy=(result[i, 0], result[i, 1]))\n",
        "plt.show()"
      ],
      "execution_count": null,
      "outputs": [
        {
          "output_type": "stream",
          "name": "stderr",
          "text": [
            "/usr/local/lib/python3.7/dist-packages/ipykernel_launcher.py:3: DeprecationWarning: Call to deprecated `__getitem__` (Method will be removed in 4.0.0, use self.wv.__getitem__() instead).\n",
            "  This is separate from the ipykernel package so we can avoid doing imports until\n"
          ]
        },
        {
          "output_type": "display_data",
          "data": {
            "text/plain": [
              "<Figure size 432x288 with 1 Axes>"
            ],
            "image/png": "[encoded data removed]"
          },
          "metadata": {
            "needs_background": "light"
          }
        }
      ]
    },
    {
      "cell_type": "markdown",
      "metadata": {
        "id": "iaCK_dfM4sVs"
      },
      "source": [
        "### 3.7 Plot word vectors using TSNE tool"
      ]
    },
    {
      "cell_type": "code",
      "metadata": {
        "id": "89qPU-8q41rO",
        "colab": {
          "base_uri": "https://localhost:8080/",
          "height": 446
        },
        "outputId": "14e4fe8e-8544-4b2a-94d1-03bed616d9d9"
      },
      "source": [
        "## define a function to plot \n",
        "import matplotlib.pyplot as plt\n",
        "from sklearn.manifold import TSNE\n",
        "def tsne_plot(model,words_labels):\n",
        "    \"Create TSNE model and plot it\"\n",
        "    labels = []\n",
        "    tokens = []\n",
        "\n",
        "    for word in words_labels:\n",
        "        tokens.append(model[word])\n",
        "        labels.append(word)\n",
        "    \n",
        "    tsne_model = TSNE(perplexity=5, n_components=2, init='pca', n_iter=2500, random_state=23)\n",
        "    new_values = tsne_model.fit_transform(tokens)\n",
        "\n",
        "    x = []\n",
        "    y = []\n",
        "    for value in new_values:\n",
        "        x.append(value[0])\n",
        "        y.append(value[1])\n",
        "        \n",
        "    plt.figure(figsize=(5, 5)) \n",
        "    for i in range(len(x)):\n",
        "        plt.scatter(x[i],y[i])\n",
        "        plt.annotate(labels[i],\n",
        "                     xy=(x[i], y[i]),\n",
        "                     xytext=(5, 2),\n",
        "                     textcoords='offset points',\n",
        "                     ha='right',\n",
        "                     va='bottom')\n",
        "    plt.show()\n",
        "    \n",
        " ## call this function\n",
        "words = list(model.wv.vocab) \n",
        "tsne_plot(model,words)"
      ],
      "execution_count": null,
      "outputs": [
        {
          "output_type": "stream",
          "name": "stderr",
          "text": [
            "/usr/local/lib/python3.7/dist-packages/ipykernel_launcher.py:10: DeprecationWarning: Call to deprecated `__getitem__` (Method will be removed in 4.0.0, use self.wv.__getitem__() instead).\n",
            "  # Remove the CWD from sys.path while we load stuff.\n",
            "/usr/local/lib/python3.7/dist-packages/sklearn/manifold/_t_sne.py:793: FutureWarning: The default learning rate in TSNE will change from 200.0 to 'auto' in 1.2.\n",
            "  FutureWarning,\n",
            "/usr/local/lib/python3.7/dist-packages/sklearn/manifold/_t_sne.py:986: FutureWarning: The PCA initialization in TSNE will change to have the standard deviation of PC1 equal to 1e-4 in 1.2. This will ensure better convergence.\n",
            "  FutureWarning,\n"
          ]
        },
        {
          "output_type": "display_data",
          "data": {
            "text/plain": [
              "<Figure size 360x360 with 1 Axes>"
            ],
            "image/png": "[encoded data removed]"
          },
          "metadata": {
            "needs_background": "light"
          }
        }
      ]
    },
    {
      "cell_type": "markdown",
      "metadata": {
        "id": "awXlaa1QPO9S"
      },
      "source": [
        "<b>--> Extending previously trained Word2Vec model by adding new data"
      ]
    },
    {
      "cell_type": "code",
      "metadata": {
        "id": "7TshXBclPJgw",
        "colab": {
          "base_uri": "https://localhost:8080/"
        },
        "outputId": "7c53a8b3-eff6-4130-d1e4-6d11a23633f7"
      },
      "source": [
        "New_Corpus = [\"This car can hit 100 miles per hour\"]\n",
        "TOKENIZED_CORPUS_new = [nltk.word_tokenize(sentence) for sentence in New_Corpus]\n",
        "model.build_vocab(TOKENIZED_CORPUS_new,update = True)\n",
        "#model_new = gensim.models.Word2Vec(TOKENIZED_CORPUS_new, size=5, window=2,min_count=1)\n",
        "#model.reset_from(model_new)\n",
        "model.train(TOKENIZED_CORPUS_new,total_examples=model.corpus_count, epochs=model.epochs)"
      ],
      "execution_count": null,
      "outputs": [
        {
          "output_type": "execute_result",
          "data": {
            "text/plain": [
              "(4, 40)"
            ]
          },
          "metadata": {},
          "execution_count": 18
        }
      ]
    },
    {
      "cell_type": "code",
      "metadata": {
        "id": "V4e7mRaKPMjT",
        "colab": {
          "base_uri": "https://localhost:8080/"
        },
        "outputId": "e6f1b548-6acf-48b7-a48c-16b1d0d12bcb"
      },
      "source": [
        "print('Representation of word \\'miles\\'',model.wv['miles'])"
      ],
      "execution_count": null,
      "outputs": [
        {
          "output_type": "stream",
          "name": "stdout",
          "text": [
            "Representation of word 'miles' [ 0.08370174 -0.04442116 -0.01355224  0.01648985  0.01929059]\n"
          ]
        }
      ]
    },
    {
      "cell_type": "markdown",
      "metadata": {
        "id": "D67RfJxVQhsc"
      },
      "source": [
        "<b>--> TSNE plot of word vectors with newly extended vocabuary"
      ]
    },
    {
      "cell_type": "code",
      "metadata": {
        "id": "ZJJOKifvQYP0",
        "colab": {
          "base_uri": "https://localhost:8080/",
          "height": 446
        },
        "outputId": "5e686147-2b40-402a-81bb-8b52c7434244"
      },
      "source": [
        "words = list(model.wv.vocab)\n",
        "tsne_plot(model,words)"
      ],
      "execution_count": null,
      "outputs": [
        {
          "output_type": "stream",
          "name": "stderr",
          "text": [
            "/usr/local/lib/python3.7/dist-packages/ipykernel_launcher.py:10: DeprecationWarning: Call to deprecated `__getitem__` (Method will be removed in 4.0.0, use self.wv.__getitem__() instead).\n",
            "  # Remove the CWD from sys.path while we load stuff.\n",
            "/usr/local/lib/python3.7/dist-packages/sklearn/manifold/_t_sne.py:793: FutureWarning: The default learning rate in TSNE will change from 200.0 to 'auto' in 1.2.\n",
            "  FutureWarning,\n",
            "/usr/local/lib/python3.7/dist-packages/sklearn/manifold/_t_sne.py:986: FutureWarning: The PCA initialization in TSNE will change to have the standard deviation of PC1 equal to 1e-4 in 1.2. This will ensure better convergence.\n",
            "  FutureWarning,\n"
          ]
        },
        {
          "output_type": "display_data",
          "data": {
            "text/plain": [
              "<Figure size 360x360 with 1 Axes>"
            ],
            "image/png": "[encoded data removed]"
          },
          "metadata": {
            "needs_background": "light"
          }
        }
      ]
    }
  ]
}